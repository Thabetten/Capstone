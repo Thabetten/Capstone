{
    "cells": [
        {
            "cell_type": "markdown",
            "metadata": {
                "collapsed": true
            },
            "source": "<center><font size = 4> Introduction </center></font>\n    The purpose of this study is two-fold. It is to use population statistics to see if trends can be found to suggest a location for a new vegetarian or vegan restaurant as well as to see where a producer of meat, dairy, or egg substitute products might want to distribute. Toronto will be examined for trends using data from the city of Toronto Open Data project and the Canadian Census bureau as well as the foursquare api.  According to Vegetarian Resource Group 37% of people in the united states in 2016 avoided eating dishes containing meat, fish, or poultry at least part of the time when dining out<sup>1</sup>. In the UK vegan take out is the fastest growing area of take out meals<sup>2</sup> and the number of vegans in the US increased six times in 2018<sup>3</sup>. In Canada the majority of people committing to vegan or vegetarian lifestyles are under 35<sup>4</sup>."
        },
        {
            "cell_type": "markdown",
            "metadata": {},
            "source": "<center><font size = 4> Data </center></font>\n    The above data suggests that even restaurants that do not cater specifically to vegans and vegetarians might want to consider making some options available.  The intention of this project is to look at trends in population density, gender, age, race, education, and income to determine if there are any significant trends that might indicate where there are more vegetarians or vegans and thus where meat substitute products are in highest demand both by restaurants and home consumers. It will also look for neighborhoods with high densities of food venues.\n    This project will use use k-means clustering to segment the neighborhoods of Toronto into clusters based on the above statistics then see which cluster has the largest number of vegan restaurants and then examine the common factors of those clusters and differences from other clusters. \n\nMore data may be considered later on.\n"
        },
        {
            "cell_type": "markdown",
            "metadata": {},
            "source": "<center><font size = 4> Citations </center></font>\n1. Oberst, Lindsay. \u201cStatistics.\u201d The Vegan Society, www.vegansociety.com/news/media/statistics.\n\n\n2.Oberst, Lindsay. \u201cWhy the Global Rise in Vegan and Plant-Based Eating Isn't A Fad (600% Increase in U.S. Vegans + Other Astounding Stats).\u201d Food Revolution Network, 18 Jan. 2018, foodrevolution.org/blog/vegan-statistics-global/.\n\n\n3.Oberst, Lindsay. \u201cCanada's Surprising New Proposed Health Guide Favors Plant-Based Foods and Ignores Industry Input.\u201d Food Revolution Network, 21 July 2017, foodrevolution.org/blog/canada-plant-based-food-guide/.\n\n4. Thomson, Aly. \u201cMost Vegans, Vegetarians in Canada Are under 35: Survey.\u201d The Globe and Mail, 13 Mar. 2018, www.theglobeandmail.com/canada/article-most-vegans-vegetarians-in-canada-are-under-35-survey/.\n"
        },
        {
            "cell_type": "code",
            "execution_count": null,
            "metadata": {},
            "outputs": [],
            "source": ""
        }
    ],
    "metadata": {
        "kernelspec": {
            "display_name": "Python 3.6",
            "language": "python",
            "name": "python3"
        },
        "language_info": {
            "codemirror_mode": {
                "name": "ipython",
                "version": 3
            },
            "file_extension": ".py",
            "mimetype": "text/x-python",
            "name": "python",
            "nbconvert_exporter": "python",
            "pygments_lexer": "ipython3",
            "version": "3.6.9"
        }
    },
    "nbformat": 4,
    "nbformat_minor": 1
}